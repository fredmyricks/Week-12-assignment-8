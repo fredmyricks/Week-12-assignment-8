{
 "cells": [
  {
   "cell_type": "code",
   "execution_count": null,
   "id": "initial_id",
   "metadata": {
    "collapsed": true
   },
   "outputs": [],
   "source": [
    "import pandas as pd\n",
    "import matplotlib.pyplot as plt\n",
    "import seaborn as sns\n",
    "\n",
    "# Step 1: Download the dataset from the provided link and load it into a pandas DataFrame\n",
    "url = \"https://archive.ics.uci.edu/ml/machine-learning-databases/mushroom/agaricus-lepiota.data\"\n",
    "column_names = ['class', 'cap_shape', 'cap_surface', 'cap_color', 'bruises', 'odor', 'gill_attachment',\n",
    "                'gill_spacing', 'gill_size', 'gill_color', 'stalk_shape', 'stalk_root', 'stalk_surface_above_ring',\n",
    "                'stalk_surface_below_ring', 'stalk_color_above_ring', 'stalk_color_below_ring', 'veil_type',\n",
    "                'veil_color', 'ring_number', 'ring_type', 'spore_print_color', 'population', 'habitat']\n",
    "\n",
    "df = pd.read_csv(url, names=column_names)\n",
    "\n",
    "# Step 3: Subset the DataFrame to include the columns for edible/poisonous, odor, and one other column of your choice\n",
    "subset_columns = ['class', 'odor', 'cap_color']  # You can choose any other column instead of 'cap_color'\n",
    "df_subset = df[subset_columns]\n",
    "\n",
    "# Step 4: Rename the columns to be more meaningful\n",
    "df_subset.columns = ['Edible/Poisonous', 'Odor', 'Cap_Color']\n",
    "\n",
    "# Step 5: Replace the categorical values with numeric values\n",
    "# Replace 'e' with 0 (edible) and 'p' with 1 (poisonous) in the 'Edible/Poisonous' column\n",
    "df_subset['Edible/Poisonous'] = df_subset['Edible/Poisonous'].map({'e': 0, 'p': 1})\n",
    "\n",
    "# Step 6: Perform exploratory data analysis\n",
    "# Show distribution of data for each selected column\n",
    "for column in df_subset.columns:\n",
    "    plt.figure(figsize=(8, 6))\n",
    "    sns.countplot(data=df_subset, x=column, hue='Edible/Poisonous')\n",
    "    plt.title(f'Distribution of {column}')\n",
    "    plt.xlabel(column)\n",
    "    plt.ylabel('Count')\n",
    "    plt.legend(title='Edible/Poisonous')\n",
    "    plt.show()\n",
    "\n",
    "# Show scatterplot for Edible/Poisonous vs. Odor\n",
    "plt.figure(figsize=(8, 6))\n",
    "sns.scatterplot(data=df_subset, x='Odor', y='Edible/Poisonous', hue='Edible/Poisonous')\n",
    "plt.title('Edible/Poisonous vs. Odor')\n",
    "plt.xlabel('Odor')\n",
    "plt.ylabel('Edible/Poisonous')\n",
    "plt.show()\n",
    "\n",
    "# Show scatterplot for Edible/Poisonous vs. Cap_Color\n",
    "plt.figure(figsize=(8, 6))\n",
    "sns.scatterplot(data=df_subset, x='Cap_Color', y='Edible/Poisonous', hue='Edible/Poisonous')\n",
    "plt.title('Edible/Poisonous vs. Cap Color')\n",
    "plt.xlabel('Cap Color')\n",
    "plt.ylabel('Edible/Poisonous')\n",
    "plt.show()\n",
    "\n",
    "# Step 7: Preliminary conclusions\n",
    "# Analyze the scatterplots and distribution plots to draw preliminary conclusions about the selected column's predictiveness\n",
    "\n"
   ]
  }
 ],
 "metadata": {
  "kernelspec": {
   "display_name": "Python 3",
   "language": "python",
   "name": "python3"
  },
  "language_info": {
   "codemirror_mode": {
    "name": "ipython",
    "version": 2
   },
   "file_extension": ".py",
   "mimetype": "text/x-python",
   "name": "python",
   "nbconvert_exporter": "python",
   "pygments_lexer": "ipython2",
   "version": "2.7.6"
  }
 },
 "nbformat": 4,
 "nbformat_minor": 5
}
